{
  "nbformat": 4,
  "nbformat_minor": 0,
  "metadata": {
    "colab": {
      "name": "Installing python package locally.ipynb",
      "version": "0.3.2",
      "provenance": []
    },
    "kernelspec": {
      "name": "python3",
      "display_name": "Python 3"
    }
  },
  "cells": [
    {
      "metadata": {
        "id": "Ab7qKkPh2zg0",
        "colab_type": "text"
      },
      "cell_type": "markdown",
      "source": [
        "When you use pip to install python packages from the hosted site, sometimes you get the error of \n",
        "\n",
        "    Command \"python setup.py egg_info\" failed with error code 1 in ......\n",
        "\n",
        "After trying update the pip, setuptools and acquiring the admin right or everything that you can think of you still cannot get it to work. It's time to swtich to offline installation.\n",
        "\n",
        "Simply download the package, unzip, cd into the path where the package is stored and execute \n",
        "\n",
        "\n",
        "```\n",
        "python setup.py install --user\n",
        "```\n",
        "\n",
        "\n"
      ]
    },
    {
      "metadata": {
        "id": "QZ05mqsp2z76",
        "colab_type": "code",
        "colab": {}
      },
      "cell_type": "code",
      "source": [
        "cd path/local-package\n",
        "python setup.py install --user"
      ],
      "execution_count": 0,
      "outputs": []
    },
    {
      "metadata": {
        "id": "WPH0Er-I2zMW",
        "colab_type": "text"
      },
      "cell_type": "markdown",
      "source": [
        "Solved my headache with QSTK installation for python 3.x!"
      ]
    }
  ]
}