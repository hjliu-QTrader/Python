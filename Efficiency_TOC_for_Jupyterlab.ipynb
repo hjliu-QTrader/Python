{
  "nbformat": 4,
  "nbformat_minor": 0,
  "metadata": {
    "colab": {
      "name": "Efficiency - TOC for Jupyterlab.ipynb",
      "version": "0.3.2",
      "provenance": [],
      "collapsed_sections": []
    },
    "kernelspec": {
      "name": "python3",
      "display_name": "Python 3"
    }
  },
  "cells": [
    {
      "metadata": {
        "id": "00WfF0DZu3_S",
        "colab_type": "text"
      },
      "cell_type": "markdown",
      "source": [
        "# Jupyterlab Efficiency Tools - TOC Table of Content"
      ]
    },
    {
      "metadata": {
        "id": "QxbN8cx0uX18",
        "colab_type": "text"
      },
      "cell_type": "markdown",
      "source": [
        "Table of contents is an efficient way to organize your notebook but it does not come automatically with JupyterLab. How can we install it?\n",
        "\n",
        "---\n",
        "\n"
      ]
    },
    {
      "metadata": {
        "id": "QQo5cVb5shl-",
        "colab_type": "text"
      },
      "cell_type": "markdown",
      "source": [
        "## Pre-requisites\n",
        "\n",
        "In order to install JupyterLab extensions, you first need to have Node.js version 4 or later installed.\n",
        "\n",
        "If you use conda, you can get it with:"
      ]
    },
    {
      "metadata": {
        "id": "edfrWgFQshxk",
        "colab_type": "code",
        "colab": {}
      },
      "cell_type": "code",
      "source": [
        "conda install -c conda-forge nodejs"
      ],
      "execution_count": 0,
      "outputs": []
    },
    {
      "metadata": {
        "id": "9vvsgTUMsh8U",
        "colab_type": "text"
      },
      "cell_type": "markdown",
      "source": [
        "\n",
        "If you use Homebrew on Mac OS X:\n",
        "\n",
        "\n"
      ]
    },
    {
      "metadata": {
        "id": "82fpLsR9siGc",
        "colab_type": "code",
        "colab": {}
      },
      "cell_type": "code",
      "source": [
        "brew install node"
      ],
      "execution_count": 0,
      "outputs": []
    },
    {
      "metadata": {
        "id": "mWpixMDTtn5k",
        "colab_type": "text"
      },
      "cell_type": "markdown",
      "source": [
        "I tried PIP install - that is ok too"
      ]
    },
    {
      "metadata": {
        "id": "Ya3rXf_BtsmI",
        "colab_type": "code",
        "colab": {}
      },
      "cell_type": "code",
      "source": [
        "pip install nodejs"
      ],
      "execution_count": 0,
      "outputs": []
    },
    {
      "metadata": {
        "id": "IJ-LEU3zsiQ8",
        "colab_type": "text"
      },
      "cell_type": "markdown",
      "source": [
        "\n",
        "\n",
        "You can also download Node.js from the Node.js website and install it directly.\n",
        "\n"
      ]
    },
    {
      "metadata": {
        "id": "apEi4TP-vEJO",
        "colab_type": "text"
      },
      "cell_type": "markdown",
      "source": [
        "\n",
        "## TOC extension installation"
      ]
    },
    {
      "metadata": {
        "id": "KmSRYxcCsiZD",
        "colab_type": "code",
        "colab": {}
      },
      "cell_type": "code",
      "source": [
        "jupyter labextension install @jupyterlab/toc"
      ],
      "execution_count": 0,
      "outputs": []
    },
    {
      "metadata": {
        "id": "s3zp5tqLuPpI",
        "colab_type": "text"
      },
      "cell_type": "markdown",
      "source": [
        "## Done! Wasn't it easy!"
      ]
    }
  ]
}